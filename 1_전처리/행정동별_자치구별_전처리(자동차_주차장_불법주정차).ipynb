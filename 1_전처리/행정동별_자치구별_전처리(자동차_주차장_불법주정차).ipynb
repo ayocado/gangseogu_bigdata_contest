{
 "cells": [
  {
   "cell_type": "markdown",
   "id": "1059254c-0869-4620-b55d-b78eac6ebb2e",
   "metadata": {
    "jp-MarkdownHeadingCollapsed": true,
    "tags": []
   },
   "source": [
    "## 구별 데이터 합치기 (주은, 용완)"
   ]
  },
  {
   "cell_type": "code",
   "execution_count": 2,
   "id": "1523138a-cc2b-4fd0-9f5a-62b0afe54de9",
   "metadata": {},
   "outputs": [],
   "source": [
    "import pandas as pd\n",
    "import numpy as np"
   ]
  },
  {
   "cell_type": "code",
   "execution_count": 83,
   "id": "4135cd93-9f01-4372-8c0f-15fa759179b6",
   "metadata": {},
   "outputs": [],
   "source": [
    "j_seoul = pd.read_csv('C:/Users/User/Desktop/강서구 빅데이터 공모전/(주은) 서울시 merge 데이터.csv', encoding='cp949', thousands=',')"
   ]
  },
  {
   "cell_type": "code",
   "execution_count": 84,
   "id": "d9002c65-dbff-43c8-9829-0fa8d9a255a9",
   "metadata": {},
   "outputs": [
    {
     "data": {
      "text/plain": [
       "Index(['자치구', '계 소계', '관용 소계', '자가용 소계', '영업용 소계', '계 승용차', '관용 승용차',\n",
       "       '자가용 승용차', '영업용 승용차', '계 승합차', '관용 승합차', '자가용 승합차', '영업용 승합차', '계 화물차',\n",
       "       '관용 화물차', '자가용 화물차', '영업용 화물차', '계 특수차', '관용 특수차', '자가용 특수차', '영업용 특수차',\n",
       "       '계 이륜차', '관용 이륜차', '자가용 이륜차', '영업용 이륜차', '자동차등록대수 (대)', '주차면수 (면수)',\n",
       "       '주차장확보율 (%)', '자동차등록대수(증감)', '주차면수(증감)', '주차장확보율(증감)', '자가용승용차 (대)',\n",
       "       '주택가주차장 소계', '노상', '노외', '건축물부설', '주택가주차장확보율'],\n",
       "      dtype='object')"
      ]
     },
     "execution_count": 84,
     "metadata": {},
     "output_type": "execute_result"
    }
   ],
   "source": [
    "j_seoul.columns"
   ]
  },
  {
   "cell_type": "code",
   "execution_count": 85,
   "id": "b37fc4c9-3f79-42a5-ad36-b7735bdbbf4e",
   "metadata": {},
   "outputs": [],
   "source": [
    "y_seoul = pd.read_csv('C:/Users/User/Desktop/강서구 빅데이터 공모전/(구별) 주차장, 자동차, 불법주차.csv', thousands=',')"
   ]
  },
  {
   "cell_type": "markdown",
   "id": "5e946277",
   "metadata": {},
   "source": []
  },
  {
   "cell_type": "code",
   "execution_count": 86,
   "id": "86d2c564-3581-45db-af39-f3b13c888a0b",
   "metadata": {},
   "outputs": [
    {
     "data": {
      "text/plain": [
       "Index(['자치구', '승용차 합계', '승용차 관용', '승용차 자가용', '승용차 영업용', '승합차 합계', '승합차 관용',\n",
       "       '승합차 자가용', '승합차 영업용', '화물차 합계', '화물차 관용', '화물차 자가용', '화물차 영업용',\n",
       "       '특수차 합계', '특수차 관용', '특수차 자가용', '특수차 영업용', '이륜차 합계', '이륜차 관용', '이륜차 자가용',\n",
       "       '이륜차 영업용', '자동차 등록 대수', '주차 면수', '주차장 확보율', '자가용 승용차 합계', '주택가 주차장 합계',\n",
       "       '주택가 주차장 노상', '주택가 주차장 노외', '주택가 주차장 건축물 부설', '주택가 주차장 확보율',\n",
       "       '2017 단속건수', '2018 단속건수', '2019 단속건수', '2020 단속건수', '2021 단속건수',\n",
       "       '2022 단속건수'],\n",
       "      dtype='object')"
      ]
     },
     "execution_count": 86,
     "metadata": {},
     "output_type": "execute_result"
    }
   ],
   "source": [
    "y_seoul.columns"
   ]
  },
  {
   "cell_type": "code",
   "execution_count": 87,
   "id": "708ff1f5-0b23-4966-a899-8ab69626765c",
   "metadata": {},
   "outputs": [],
   "source": [
    "# '계 소계', '관용 소계', '자가용 소계', '영업용 소계'\n",
    "j_seoul_1 = j_seoul.iloc[:, 0:5]"
   ]
  },
  {
   "cell_type": "code",
   "execution_count": 88,
   "id": "0ca7f1b2-4eca-4a50-9185-131c4516e91b",
   "metadata": {},
   "outputs": [],
   "source": [
    "# '자동차등록대수(증감)', '주차면수(증감)', '주차장확보율(증감)'\n",
    "j_seoul_2 = j_seoul.iloc[:, 28:31]"
   ]
  },
  {
   "cell_type": "code",
   "execution_count": 89,
   "id": "7fd30467-9abc-4ba0-81ee-0c088150332b",
   "metadata": {},
   "outputs": [],
   "source": [
    "j_seoul_fin = pd.concat([j_seoul_1, j_seoul_2], axis=1)"
   ]
  },
  {
   "cell_type": "code",
   "execution_count": 90,
   "id": "ad1115f7-ee13-4a6a-842a-00c5d62408d5",
   "metadata": {},
   "outputs": [],
   "source": [
    "seoul = pd.merge(y_seoul, j_seoul_fin, how='inner')"
   ]
  },
  {
   "cell_type": "code",
   "execution_count": 91,
   "id": "0696fe6a-d530-49e9-a4c9-1836495f77ea",
   "metadata": {},
   "outputs": [
    {
     "data": {
      "text/plain": [
       "Index(['자치구', '승용차 합계', '승용차 관용', '승용차 자가용', '승용차 영업용', '승합차 합계', '승합차 관용',\n",
       "       '승합차 자가용', '승합차 영업용', '화물차 합계', '화물차 관용', '화물차 자가용', '화물차 영업용',\n",
       "       '특수차 합계', '특수차 관용', '특수차 자가용', '특수차 영업용', '이륜차 합계', '이륜차 관용', '이륜차 자가용',\n",
       "       '이륜차 영업용', '자동차 등록 대수', '주차 면수', '주차장 확보율', '자가용 승용차 합계', '주택가 주차장 합계',\n",
       "       '주택가 주차장 노상', '주택가 주차장 노외', '주택가 주차장 건축물 부설', '주택가 주차장 확보율',\n",
       "       '2017 단속건수', '2018 단속건수', '2019 단속건수', '2020 단속건수', '2021 단속건수',\n",
       "       '2022 단속건수', '계 소계', '관용 소계', '자가용 소계', '영업용 소계', '자동차등록대수(증감)',\n",
       "       '주차면수(증감)', '주차장확보율(증감)'],\n",
       "      dtype='object')"
      ]
     },
     "execution_count": 91,
     "metadata": {},
     "output_type": "execute_result"
    }
   ],
   "source": [
    "seoul.columns"
   ]
  },
  {
   "cell_type": "code",
   "execution_count": 92,
   "id": "09c00350-669f-4f6b-a692-2e3ecedbd72a",
   "metadata": {},
   "outputs": [],
   "source": [
    "seoul = seoul[['자치구', '계 소계', '관용 소계', '자가용 소계', '영업용 소계', \n",
    "              '승용차 합계', '승용차 관용', '승용차 자가용', '승용차 영업용', '승합차 합계', '승합차 관용', \n",
    "              '승합차 자가용', '승합차 영업용', '화물차 합계', '화물차 관용', '화물차 자가용', '화물차 영업용', \n",
    "              '특수차 합계', '특수차 관용', '특수차 자가용', '특수차 영업용', '이륜차 합계', '이륜차 관용', '이륜차 자가용', \n",
    "              '이륜차 영업용', '자동차 등록 대수', '주차 면수', '주차장 확보율', '자동차등록대수(증감)', \n",
    "              '주차면수(증감)', '주차장확보율(증감)', '자가용 승용차 합계', '주택가 주차장 합계', \n",
    "              '주택가 주차장 노상', '주택가 주차장 노외', '주택가 주차장 건축물 부설', '주택가 주차장 확보율', \n",
    "              '2017 단속건수', '2018 단속건수', '2019 단속건수', '2020 단속건수', '2021 단속건수', '2022 단속건수']]"
   ]
  },
  {
   "cell_type": "code",
   "execution_count": 93,
   "id": "e24725d2-5985-4587-8cdc-76a43191c7d4",
   "metadata": {},
   "outputs": [],
   "source": [
    "seoul = seoul.rename(columns={'계 소계' : '총 자동차 합계'})"
   ]
  },
  {
   "cell_type": "code",
   "execution_count": 94,
   "id": "27f5d7c8-5942-4c78-9880-71e6ec83276d",
   "metadata": {},
   "outputs": [],
   "source": [
    "seoul = seoul.rename(columns={'관용 소계' : '관용 합계', '자가용 소계' : '자가용 합계', '영업용 소계' : '영업용 합계'})"
   ]
  },
  {
   "cell_type": "code",
   "execution_count": 95,
   "id": "46d1be22-7dea-4968-9158-a78a61cfdce9",
   "metadata": {},
   "outputs": [],
   "source": [
    "seoul['이륜차 영업용'] = seoul['이륜차 영업용'].replace('-', 0)"
   ]
  },
  {
   "cell_type": "code",
   "execution_count": 98,
   "id": "3a1a2dfe-f178-42f4-99a6-a2a71422c4df",
   "metadata": {},
   "outputs": [],
   "source": [
    "seoul.to_csv('(구별 통합) 자동차, 주차장, 불법주차.csv', encoding='utf-8-sig', index=False)"
   ]
  },
  {
   "cell_type": "markdown",
   "id": "27273e9f-6d65-4e61-8c02-34f3ece35119",
   "metadata": {
    "tags": []
   },
   "source": [
    "## 행정동별 merge (주은, 용완)"
   ]
  },
  {
   "cell_type": "code",
   "execution_count": 129,
   "id": "757a6225-e059-464e-bca7-18d3142041a1",
   "metadata": {},
   "outputs": [],
   "source": [
    "j_gangseo = pd.read_csv('C:/Users/User/Desktop/강서구 빅데이터 공모전/(주은) 강서구 merge 데이터.csv', encoding='cp949', thousands=',')"
   ]
  },
  {
   "cell_type": "code",
   "execution_count": 130,
   "id": "ed8919b7-f652-4618-8311-f62615d04164",
   "metadata": {},
   "outputs": [],
   "source": [
    "y_gangseo = pd.read_csv('C:/Users/User/Desktop/강서구 빅데이터 공모전/(행정동별) 주차장, 자동차, 불법주차.csv', thousands=',')"
   ]
  },
  {
   "cell_type": "code",
   "execution_count": 131,
   "id": "5f8c04df-5872-432b-9b92-d67043aecc7b",
   "metadata": {},
   "outputs": [
    {
     "data": {
      "text/plain": [
       "Index(['행정동명', '개소 (개소)', '면수 (면수)', '공영개소', '공영면수', '민영개소', '민영면수', '노상개소',\n",
       "       '노상면수', '노상시영개소', '노상시영면수', '노상구영개소', '노상구영면수', '노외개소', '노외면수',\n",
       "       '노외시영개소', '노외시영면수', '노외구영개소', '노외구영면수', '노외민영개소', '노외민영면수', '건축물부설개소',\n",
       "       '건축물부설면수', '일반주택개소', '일반주택면수', '공동주택개소', '공동주택면수', '일반건축물개소', '일반건축물면수',\n",
       "       '주정차위반단속건수', '공영주차장 수', '공영주차장 총 주차면', '자동차등록대수'],\n",
       "      dtype='object')"
      ]
     },
     "execution_count": 131,
     "metadata": {},
     "output_type": "execute_result"
    }
   ],
   "source": [
    "j_gangseo.columns"
   ]
  },
  {
   "cell_type": "code",
   "execution_count": 132,
   "id": "3eae8f7a-a953-4dde-aa24-2bcc42d7afbb",
   "metadata": {},
   "outputs": [],
   "source": [
    "j_gangseo_1 = j_gangseo[['행정동명', '공영주차장 수', '공영주차장 총 주차면', '자동차등록대수']]"
   ]
  },
  {
   "cell_type": "code",
   "execution_count": 133,
   "id": "dd243895-459b-4d24-8151-86dc63acd376",
   "metadata": {},
   "outputs": [],
   "source": [
    "y_gangseo = y_gangseo.rename(columns={'행정동' : '행정동명'})"
   ]
  },
  {
   "cell_type": "code",
   "execution_count": 134,
   "id": "c3cb221b-11ea-4eed-92fe-9a30f59bf06c",
   "metadata": {},
   "outputs": [],
   "source": [
    "gangseo = pd.merge(y_gangseo, j_gangseo_1, how='inner')"
   ]
  },
  {
   "cell_type": "code",
   "execution_count": 135,
   "id": "c7fb4f1a-65db-444c-aa80-a1fed17dab56",
   "metadata": {},
   "outputs": [
    {
     "data": {
      "text/plain": [
       "Index(['행정동명', '주차장 개수', '주차장 면수', '공영 개수', '공영 면수', '민영 개수', '민영 면수', '노상 개수',\n",
       "       '노상 면수', '노상 시영 개수', '노상 시영 면수', '노상 구영 개수', '노상 구영 면수', '노외 개수',\n",
       "       '노외 면수', '노외 시영 개수', '노외 시영 면수', '노외 구영 개수', '노외 구영 면수', '노외 민영 개수',\n",
       "       '노외 민영 면수', '건축물부설 개수', '건축물부설 면수', '건축물부설 일반주택 개수', '건축물부설 일반주택 면수',\n",
       "       '건축물부설 공동주택 개수', '건축물부설 공동주택 면수', '건축물부설 일반건축물 개수', '건축물부설 일반건축물 면수',\n",
       "       '승용', '승합', '특수', '화물', '단속건수', '공영주차장 수', '공영주차장 총 주차면', '자동차등록대수'],\n",
       "      dtype='object')"
      ]
     },
     "execution_count": 135,
     "metadata": {},
     "output_type": "execute_result"
    }
   ],
   "source": [
    "gangseo.columns"
   ]
  },
  {
   "cell_type": "code",
   "execution_count": 136,
   "id": "9ed655db-1665-4a6c-8554-de32d564b4f2",
   "metadata": {},
   "outputs": [],
   "source": [
    "gangseo = gangseo[['행정동명', '주차장 개수', '주차장 면수', '공영 개수', '공영 면수', '민영 개수', '민영 면수', '노상 개수',\n",
    "       '노상 면수', '노상 시영 개수', '노상 시영 면수', '노상 구영 개수', '노상 구영 면수', '노외 개수',\n",
    "       '노외 면수', '노외 시영 개수', '노외 시영 면수', '노외 구영 개수', '노외 구영 면수', '노외 민영 개수',\n",
    "       '노외 민영 면수', '건축물부설 개수', '건축물부설 면수', '건축물부설 일반주택 개수', '건축물부설 일반주택 면수',\n",
    "       '건축물부설 공동주택 개수', '건축물부설 공동주택 면수', '건축물부설 일반건축물 개수', '건축물부설 일반건축물 면수',\n",
    "       '공영주차장 수', '공영주차장 총 주차면', '승용', '승합', '특수', '화물', '자동차등록대수', '단속건수']]"
   ]
  },
  {
   "cell_type": "code",
   "execution_count": 137,
   "id": "26432d73-18cb-4f75-b211-c428ddfae0dc",
   "metadata": {},
   "outputs": [],
   "source": [
    "columns = gangseo.columns\n",
    "for i in columns:\n",
    "    gangseo[i][gangseo[i] == '-'] = 0"
   ]
  },
  {
   "cell_type": "code",
   "execution_count": 140,
   "id": "061594a1-8013-4120-a595-5cee1cdbf98e",
   "metadata": {},
   "outputs": [],
   "source": [
    "gangseo.to_csv('(행정동별 통합) 자동차, 주차장, 불법주차.csv', encoding='utf-8-sig', index=False)"
   ]
  }
 ],
 "metadata": {
  "kernelspec": {
   "display_name": "Python 3 (ipykernel)",
   "language": "python",
   "name": "python3"
  },
  "language_info": {
   "codemirror_mode": {
    "name": "ipython",
    "version": 3
   },
   "file_extension": ".py",
   "mimetype": "text/x-python",
   "name": "python",
   "nbconvert_exporter": "python",
   "pygments_lexer": "ipython3",
   "version": "3.9.13"
  }
 },
 "nbformat": 4,
 "nbformat_minor": 5
}
