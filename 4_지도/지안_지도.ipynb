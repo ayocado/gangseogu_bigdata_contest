{
 "cells": [
  {
   "cell_type": "code",
   "execution_count": 2,
   "id": "3b75020b",
   "metadata": {},
   "outputs": [],
   "source": [
    "import folium\n",
    "import geopandas\n",
    "\n",
    "import pandas as pd\n",
    "import numpy as np\n",
    "import matplotlib.pyplot as plt\n",
    "import seaborn as sns\n",
    "import scipy.stats as spst\n",
    "import pandas_profiling\n",
    "\n",
    "import warnings\n",
    "warnings.simplefilter(action='ignore')\n",
    "%config InlineBackend.figure_format = 'retina'\n",
    "pd.set_option('display.max_columns', None)\n",
    "\n",
    "plt.rc('font', family='AppleGothic')\n",
    "sns.set(font=\"AppleGothic\",   \n",
    "        rc={\"axes.unicode_minus\":False},    # 마이너스 부호 깨짐 현상 해결\n",
    "        style='whitegrid')"
   ]
  },
  {
   "cell_type": "code",
   "execution_count": 3,
   "id": "00b74287",
   "metadata": {},
   "outputs": [],
   "source": [
    "df_dong1 = pd.read_csv('행정동별_지하철_인구이동_사업체_버스_상권.csv', encoding='cp949')\n",
    "df_gu1 = pd.read_csv('자치구별_주민등록_예산_인구이동_사업체_상권.csv', encoding='cp949')\n",
    "\n",
    "df_gu2 = pd.read_csv('(구별 통합) 자동차, 주차장, 불법주차.csv', encoding='utf-8')\n",
    "df_dong2 = pd.read_csv('(행정동별 통합) 자동차, 주차장, 불법주차.csv', encoding='utf-8')\n",
    "\n",
    "# 필요한 열만\n",
    "df_dong2 = df_dong2[['행정동명', '자동차등록대수', '공영 면수', '공영 개수', '민영 개수', '민영 면수', '주차장 면수', '단속건수']]\n",
    "df_gu2 = df_gu2[['자치구', '2022 단속건수']]\n",
    "df_dong2.columns = ['행정동', '자동차등록대수', '공영 면수', '공영 개수', '민영 개수', '민영 면수', '주차장 면수', '단속건수']\n",
    "\n",
    "# merge \n",
    "df_gu = pd.merge(df_gu1, df_gu2, on='자치구', how='outer')\n",
    "df_dong = pd.merge(df_dong1, df_dong2, on='행정동', how='outer')\n",
    "\n",
    "# 거의 0 값을 가지는 광업 제거\n",
    "df_dong.drop(['광업'], axis=1, inplace=True)"
   ]
  },
  {
   "cell_type": "code",
   "execution_count": 4,
   "id": "96d81aaa",
   "metadata": {},
   "outputs": [
    {
     "data": {
      "text/plain": [
       "Index(['자치구', '총 세대수', '총 인구수', '세대당인구', '총 예산', '주차장사업비', '순이동', '총상주인구(명)',\n",
       "       '총유입인구(명)', '통근_유입인구(명)', '통학_유입인구(명)', '총유출인구(명)', '통근_유출인구(명)',\n",
       "       '통학_유출인구(명)', '총주간인구(명)', '주간인구지수(%)', '택시운송업', '한식_일반_음식점업',\n",
       "       '용달_화물자동차_운송업', '부동산_중개_및_대리업', '두발미용업', '커피전문점', '기타_주점업',\n",
       "       '남녀용_겉옷_및_셔츠_도매업', '일반_교과_학원', '한식_육류요리_전문점', '총상권개수', '2022 단속건수'],\n",
       "      dtype='object')"
      ]
     },
     "execution_count": 4,
     "metadata": {},
     "output_type": "execute_result"
    }
   ],
   "source": [
    "df_gu.columns"
   ]
  },
  {
   "cell_type": "code",
   "execution_count": 5,
   "id": "78d26523",
   "metadata": {
    "scrolled": true
   },
   "outputs": [
    {
     "data": {
      "text/plain": [
       "Index(['행정동', '승차총승객수', '하차총승객수', '순이동', '사업체수', '종사자수', '농업 임업 및 어업', '제조업',\n",
       "       '전기 가스 증기 및 공기조절 공급업', '수도 하수 및 폐기물 처리 원료 재생업', '건설업', '도매 및 소매업',\n",
       "       '운수 및 창고업', '숙박 및 음식점업', '정보통신업', '금융 및 보험업', '부동산업', '전문 과학 및 기술 서비스업',\n",
       "       '사업시설 관리 사업 지원 및 임대 서비스업', '공공행정 국방 및 사회보장 행정', '교육 서비스업',\n",
       "       '보건업 및 사회복지 서비스업', '예술 스포츠 및 여가관련 서비스업', '협회 및 단체 수리 및 기타 개인 서비스업',\n",
       "       '택시운송업', '버스승차총승객수', '버스하차총승객수', '총상권개수', '총주택수', '총단독주택', '일반단독주택',\n",
       "       '다가구주택', '영업겸용주택', '아파트', '연립주택', '다세대주택', '비거주용건물내주택', '자동차등록대수',\n",
       "       '공영 면수', '공영 개수', '민영 개수', '민영 면수', '주차장 면수', '단속건수'],\n",
       "      dtype='object')"
      ]
     },
     "execution_count": 5,
     "metadata": {},
     "output_type": "execute_result"
    }
   ],
   "source": [
    "df_dong.columns"
   ]
  },
  {
   "cell_type": "code",
   "execution_count": 6,
   "id": "2af6170b",
   "metadata": {},
   "outputs": [],
   "source": [
    "df_gu.to_csv('df_gu_final.csv', index=False)"
   ]
  },
  {
   "cell_type": "code",
   "execution_count": 7,
   "id": "974592a8",
   "metadata": {},
   "outputs": [],
   "source": [
    "df_dong.to_csv('df_dong_final.csv', index=False)"
   ]
  },
  {
   "cell_type": "code",
   "execution_count": null,
   "id": "2c18565e",
   "metadata": {},
   "outputs": [],
   "source": []
  },
  {
   "cell_type": "markdown",
   "id": "59fe87e9",
   "metadata": {},
   "source": [
    "## 자치구별"
   ]
  },
  {
   "cell_type": "code",
   "execution_count": 73,
   "id": "3bde1d4e",
   "metadata": {},
   "outputs": [],
   "source": [
    "# 서울시 자치구 경계 데이터 불러오기\n",
    "\n",
    "jpath = '자치구.json'\n",
    "seoul_geo = json.load(open(jpath, encoding='utf-8'))"
   ]
  },
  {
   "cell_type": "code",
   "execution_count": 81,
   "id": "38414432",
   "metadata": {},
   "outputs": [],
   "source": [
    "g_map = folium.Map(location = [37.5642135, 127.0016985],\n",
    "                   tiles='CartoDB positron',\n",
    "                   zoom_start = 11.2)\n",
    "fmap = folium.Choropleth(geo_data = seoul_geo,\n",
    "                        data=df_gu,\n",
    "                        columns=['자치구', '2022 단속건수'],\n",
    "                        key_on = 'feature.properties.sggnm', \n",
    "                        fill_color='PuRd',    #YlOrRd\n",
    "                        fill_opacity=0.7,\n",
    "                        line_opacity=0.3, \n",
    "                        legend_name='단속건수', \n",
    "                        highlight=False).add_to(g_map)\n",
    "folium.LayerControl().add_to(g_map)\n",
    "\n",
    "fmap.geojson.zoom_on_click = False\n",
    "fmap.geojson.add_child( folium.features.GeoJsonTooltip(['sggnm'], lables=False))\n",
    "g_map.save('구별_단속건수.html')"
   ]
  },
  {
   "cell_type": "code",
   "execution_count": 84,
   "id": "7f10acb3",
   "metadata": {},
   "outputs": [],
   "source": [
    "g_map = folium.Map(location = [37.5642135, 127.0016985],\n",
    "                   tiles='CartoDB positron',\n",
    "                   zoom_start = 11.2)\n",
    "fmap = folium.Choropleth(geo_data = seoul_geo,\n",
    "                        data=df_gu,\n",
    "                        columns=['자치구', '주차장사업비'],\n",
    "                        key_on = 'feature.properties.sggnm', \n",
    "                        fill_color='PuRd',    #YlOrRd\n",
    "                        fill_opacity=0.7,\n",
    "                        line_opacity=0.3, \n",
    "                        legend_name='단속건수', \n",
    "                        highlight=False).add_to(g_map)\n",
    "folium.LayerControl().add_to(g_map)\n",
    "\n",
    "fmap.geojson.zoom_on_click = False\n",
    "fmap.geojson.add_child( folium.features.GeoJsonTooltip(['sggnm'], lables=False))\n",
    "g_map.save('구별_주차장사업비.html')"
   ]
  },
  {
   "cell_type": "code",
   "execution_count": null,
   "id": "ca314b37",
   "metadata": {},
   "outputs": [],
   "source": []
  },
  {
   "cell_type": "code",
   "execution_count": null,
   "id": "defe2f4b",
   "metadata": {},
   "outputs": [],
   "source": []
  },
  {
   "cell_type": "code",
   "execution_count": null,
   "id": "35c280c2",
   "metadata": {},
   "outputs": [],
   "source": []
  },
  {
   "cell_type": "code",
   "execution_count": null,
   "id": "7c1bdf78",
   "metadata": {},
   "outputs": [],
   "source": []
  },
  {
   "cell_type": "code",
   "execution_count": null,
   "id": "65f9b6b1",
   "metadata": {},
   "outputs": [],
   "source": []
  },
  {
   "cell_type": "markdown",
   "id": "37c388d0",
   "metadata": {},
   "source": [
    "## 행정동 앞에 구 붙여주기"
   ]
  },
  {
   "cell_type": "code",
   "execution_count": 8,
   "id": "71d8138d",
   "metadata": {},
   "outputs": [],
   "source": [
    "for i in range(len(df_dong)):\n",
    "    df_dong.iloc[i, 0] = '강서구 ' + df_dong.iloc[i, 0]"
   ]
  },
  {
   "cell_type": "code",
   "execution_count": 14,
   "id": "fea76e3b",
   "metadata": {},
   "outputs": [],
   "source": [
    "# 강서구 행정동 경계 데이터 불러오기\n",
    "\n",
    "jpath = '강서구_행정동.json'\n",
    "gangseo_geo = json.load(open(jpath, encoding='utf-8'))"
   ]
  },
  {
   "cell_type": "code",
   "execution_count": 15,
   "id": "7f3ccc18",
   "metadata": {},
   "outputs": [],
   "source": [
    "g_map = folium.Map(location = [37.564284172921866, 126.82663196076031],  \n",
    "                   tiles='CartoDB positron',\n",
    "                   zoom_start = 13)\n",
    "fmap = folium.Choropleth(geo_data = gangseo_geo,\n",
    "                        data=df_dong,\n",
    "                        columns=['행정동', '단속건수'],\n",
    "                        key_on = 'feature.properties.temp', \n",
    "                        fill_color='Blues',\n",
    "                        fill_opacity=0.7,\n",
    "                        line_opacity=0.3, \n",
    "                        legend_name='단속건수', \n",
    "                        highlight=True).add_to(g_map)\n",
    "folium.LayerControl().add_to(g_map)\n",
    "\n",
    "fmap.geojson.zoom_on_click = False\n",
    "fmap.geojson.add_child( folium.features.GeoJsonTooltip(['temp'], lables=False))\n",
    "g_map.save('강서구_단속건수.html')"
   ]
  },
  {
   "cell_type": "code",
   "execution_count": 86,
   "id": "5ba28750",
   "metadata": {},
   "outputs": [],
   "source": [
    "g_map = folium.Map(location = [37.564284172921866, 126.82663196076031],  \n",
    "                   tiles='CartoDB positron',\n",
    "                   zoom_start = 13)\n",
    "fmap = folium.Choropleth(geo_data = gangseo_geo,\n",
    "                        data=df_dong,\n",
    "                        columns=['행정동', '종사자수'],\n",
    "                        key_on = 'feature.properties.temp', \n",
    "                        fill_color='Blues',\n",
    "                        fill_opacity=0.7,\n",
    "                        line_opacity=0.3, \n",
    "                        legend_name='단속건수', \n",
    "                        highlight=True).add_to(g_map)\n",
    "folium.LayerControl().add_to(g_map)\n",
    "\n",
    "fmap.geojson.zoom_on_click = False\n",
    "fmap.geojson.add_child( folium.features.GeoJsonTooltip(['temp'], lables=False))\n",
    "g_map.save('강서구_종사자수.html')"
   ]
  },
  {
   "cell_type": "code",
   "execution_count": null,
   "id": "21eb976e",
   "metadata": {},
   "outputs": [],
   "source": []
  },
  {
   "cell_type": "code",
   "execution_count": null,
   "id": "62d033a7",
   "metadata": {},
   "outputs": [],
   "source": []
  },
  {
   "cell_type": "markdown",
   "id": "ac2ced1a",
   "metadata": {},
   "source": [
    "## 클러스터별 단속건수 군집"
   ]
  },
  {
   "cell_type": "code",
   "execution_count": 9,
   "id": "96f05ac5",
   "metadata": {},
   "outputs": [],
   "source": [
    "import json\n",
    "\n",
    "jpath = '클러스터_1.json'\n",
    "gangseo_geo = json.load(open(jpath, encoding='utf-8'))"
   ]
  },
  {
   "cell_type": "code",
   "execution_count": 10,
   "id": "6610e7c3",
   "metadata": {},
   "outputs": [],
   "source": [
    "g_map = folium.Map(location = [37.564284172921866, 126.82663196076031],  \n",
    "                   tiles='CartoDB positron',\n",
    "                   zoom_start = 13)\n",
    "fmap = folium.Choropleth(geo_data = gangseo_geo,\n",
    "                        data=df_dong,\n",
    "                        columns=['행정동', '단속건수'],\n",
    "                        key_on = 'feature.properties.temp', \n",
    "                        fill_color='Blues',\n",
    "                        fill_opacity=0.7,\n",
    "                        line_opacity=0.3, \n",
    "                        legend_name='단속건수', \n",
    "                        highlight=True).add_to(g_map)\n",
    "folium.LayerControl().add_to(g_map)\n",
    "\n",
    "fmap.geojson.zoom_on_click = False\n",
    "fmap.geojson.add_child( folium.features.GeoJsonTooltip(['temp'], lables=False))\n",
    "g_map.save('클러스터1_단속건수.html')"
   ]
  },
  {
   "cell_type": "code",
   "execution_count": 11,
   "id": "4d324d9c",
   "metadata": {},
   "outputs": [],
   "source": [
    "import json\n",
    "\n",
    "jpath = '클러스터_2.json'\n",
    "gangseo_geo = json.load(open(jpath, encoding='utf-8'))"
   ]
  },
  {
   "cell_type": "code",
   "execution_count": 12,
   "id": "f346af59",
   "metadata": {},
   "outputs": [],
   "source": [
    "g_map = folium.Map(location = [37.564284172921866, 126.82663196076031],  \n",
    "                   tiles='CartoDB positron',\n",
    "                   zoom_start = 13)\n",
    "fmap = folium.Choropleth(geo_data = gangseo_geo,\n",
    "                        data=df_dong,\n",
    "                        columns=['행정동', '단속건수'],\n",
    "                        key_on = 'feature.properties.temp', \n",
    "                        fill_color='Blues',\n",
    "                        fill_opacity=0.7,\n",
    "                        line_opacity=0.3, \n",
    "                        legend_name='단속건수', \n",
    "                        highlight=True).add_to(g_map)\n",
    "folium.LayerControl().add_to(g_map)\n",
    "\n",
    "fmap.geojson.zoom_on_click = False\n",
    "fmap.geojson.add_child( folium.features.GeoJsonTooltip(['temp'], lables=False))\n",
    "g_map.save('클러스터2_단속건수.html')"
   ]
  },
  {
   "cell_type": "code",
   "execution_count": 13,
   "id": "427e08de",
   "metadata": {},
   "outputs": [],
   "source": [
    "import json\n",
    "\n",
    "jpath = '클러스터_0.json'\n",
    "gangseo_geo = json.load(open(jpath, encoding='utf-8'))"
   ]
  },
  {
   "cell_type": "code",
   "execution_count": 14,
   "id": "2d7183b7",
   "metadata": {},
   "outputs": [],
   "source": [
    "g_map = folium.Map(location = [37.564284172921866, 126.82663196076031],  \n",
    "                   tiles='CartoDB positron',\n",
    "                   zoom_start = 13)\n",
    "fmap = folium.Choropleth(geo_data = gangseo_geo,\n",
    "                        data=df_dong,\n",
    "                        columns=['행정동', '단속건수'],\n",
    "                        key_on = 'feature.properties.temp', \n",
    "                        fill_color='Blues',\n",
    "                        fill_opacity=0.7,\n",
    "                        line_opacity=0.3, \n",
    "                        legend_name='단속건수', \n",
    "                        highlight=True).add_to(g_map)\n",
    "folium.LayerControl().add_to(g_map)\n",
    "\n",
    "fmap.geojson.zoom_on_click = False\n",
    "fmap.geojson.add_child( folium.features.GeoJsonTooltip(['temp'], lables=False))\n",
    "g_map.save('클러스터0_단속건수.html')"
   ]
  },
  {
   "cell_type": "code",
   "execution_count": 15,
   "id": "08a0a121",
   "metadata": {},
   "outputs": [],
   "source": [
    "import json\n",
    "\n",
    "jpath = '클러스터_3.json'\n",
    "gangseo_geo = json.load(open(jpath, encoding='utf-8'))"
   ]
  },
  {
   "cell_type": "code",
   "execution_count": 16,
   "id": "6c31310d",
   "metadata": {},
   "outputs": [],
   "source": [
    "g_map = folium.Map(location = [37.564284172921866, 126.82663196076031],  \n",
    "                   tiles='CartoDB positron',\n",
    "                   zoom_start = 13)\n",
    "fmap = folium.Choropleth(geo_data = gangseo_geo,\n",
    "                        data=df_dong,\n",
    "                        columns=['행정동', '단속건수'],\n",
    "                        key_on = 'feature.properties.temp', \n",
    "                        fill_color='Blues',\n",
    "                        fill_opacity=0.7,\n",
    "                        line_opacity=0.3, \n",
    "                        legend_name='단속건수', \n",
    "                        highlight=True).add_to(g_map)\n",
    "folium.LayerControl().add_to(g_map)\n",
    "\n",
    "fmap.geojson.zoom_on_click = False\n",
    "fmap.geojson.add_child( folium.features.GeoJsonTooltip(['temp'], lables=False))\n",
    "g_map.save('클러스터3_단속건수.html')"
   ]
  },
  {
   "cell_type": "code",
   "execution_count": null,
   "id": "9b4dba02",
   "metadata": {},
   "outputs": [],
   "source": []
  },
  {
   "cell_type": "markdown",
   "id": "9a07c9a1",
   "metadata": {},
   "source": [
    "## 클러스터별 주차장 면수 / 종사작수"
   ]
  },
  {
   "cell_type": "code",
   "execution_count": 17,
   "id": "6dc4f7c6",
   "metadata": {
    "scrolled": true
   },
   "outputs": [
    {
     "data": {
      "text/plain": [
       "[1.935186925442348, 1.3736746532210615, 0.7825470192261338]"
      ]
     },
     "execution_count": 17,
     "metadata": {},
     "output_type": "execute_result"
    }
   ],
   "source": [
    "# 가양2, 가양3, 방화3, 화곡8, 화곡본, 등촌2, 화곡2, 화곡3, 화곡4\n",
    "# 방화1, 방화2, 염창, 우장산, 등촌1, 등촌3, 화곡6, 화곡1\n",
    "# 공항, 발산1, 가양1\n",
    "\n",
    "ratio = []\n",
    "cluster_0 = df_dong.iloc[[1, 2, 6, 9, 10, 12, 14, 15, 16], :]\n",
    "cluster_1 = df_dong.iloc[[4, 5, 7, 8, 11, 13, 17, 19], :]\n",
    "cluster_2 = df_dong.iloc[[0, 3, 18], :]\n",
    "\n",
    "ratio.append((cluster_0['주차장 면수'] / cluster_0['종사자수']).mean())\n",
    "ratio.append((cluster_1['주차장 면수'] / cluster_1['종사자수']).mean())\n",
    "ratio.append((cluster_2['주차장 면수'] / cluster_2['종사자수']).mean())\n",
    "ratio"
   ]
  },
  {
   "cell_type": "code",
   "execution_count": 18,
   "id": "ef424cd9",
   "metadata": {},
   "outputs": [
    {
     "data": {
      "text/html": [
       "<div>\n",
       "<style scoped>\n",
       "    .dataframe tbody tr th:only-of-type {\n",
       "        vertical-align: middle;\n",
       "    }\n",
       "\n",
       "    .dataframe tbody tr th {\n",
       "        vertical-align: top;\n",
       "    }\n",
       "\n",
       "    .dataframe thead th {\n",
       "        text-align: right;\n",
       "    }\n",
       "</style>\n",
       "<table border=\"1\" class=\"dataframe\">\n",
       "  <thead>\n",
       "    <tr style=\"text-align: right;\">\n",
       "      <th></th>\n",
       "      <th>cluster</th>\n",
       "      <th>종사자수 대비 주차장 면수</th>\n",
       "    </tr>\n",
       "  </thead>\n",
       "  <tbody>\n",
       "    <tr>\n",
       "      <th>0</th>\n",
       "      <td>cluster0</td>\n",
       "      <td>1.935187</td>\n",
       "    </tr>\n",
       "    <tr>\n",
       "      <th>1</th>\n",
       "      <td>cluster1</td>\n",
       "      <td>1.373675</td>\n",
       "    </tr>\n",
       "    <tr>\n",
       "      <th>2</th>\n",
       "      <td>cluster2</td>\n",
       "      <td>0.782547</td>\n",
       "    </tr>\n",
       "  </tbody>\n",
       "</table>\n",
       "</div>"
      ],
      "text/plain": [
       "    cluster  종사자수 대비 주차장 면수\n",
       "0  cluster0        1.935187\n",
       "1  cluster1        1.373675\n",
       "2  cluster2        0.782547"
      ]
     },
     "execution_count": 18,
     "metadata": {},
     "output_type": "execute_result"
    }
   ],
   "source": [
    "df = pd.DataFrame()\n",
    "df['cluster'] = ['cluster0', 'cluster1', 'cluster2']\n",
    "df['종사자수 대비 주차장 면수'] = ratio\n",
    "df"
   ]
  },
  {
   "cell_type": "code",
   "execution_count": 20,
   "id": "f35dd99a",
   "metadata": {},
   "outputs": [],
   "source": [
    "import json\n",
    "\n",
    "jpath = '클러스터별_통합.json'\n",
    "gangseo_geo = json.load(open(jpath, encoding='utf-8'))"
   ]
  },
  {
   "cell_type": "code",
   "execution_count": 21,
   "id": "b975441e",
   "metadata": {},
   "outputs": [],
   "source": [
    "g_map = folium.Map(location = [37.564284172921866, 126.82663196076031],  \n",
    "                   tiles='CartoDB positron',\n",
    "                   zoom_start = 13)\n",
    "fmap = folium.Choropleth(geo_data = gangseo_geo,\n",
    "                        data=df,\n",
    "                        columns=['cluster', '종사자수 대비 주차장 면수'],\n",
    "                        key_on = 'feature.properties.temp', \n",
    "                        fill_color='OrRd',\n",
    "                        fill_opacity=0.7,\n",
    "                        line_opacity=0.3, \n",
    "                        legend_name='종사자수 대비 주차장 면수', \n",
    "                        highlight=True).add_to(g_map)\n",
    "folium.LayerControl().add_to(g_map)\n",
    "\n",
    "fmap.geojson.zoom_on_click = False\n",
    "fmap.geojson.add_child( folium.features.GeoJsonTooltip(['temp'], lables=False))\n",
    "g_map.save('클러스터별_종사자수대비주차장면수.html')"
   ]
  },
  {
   "cell_type": "code",
   "execution_count": null,
   "id": "49a30438",
   "metadata": {},
   "outputs": [],
   "source": []
  },
  {
   "cell_type": "code",
   "execution_count": null,
   "id": "f4138d55",
   "metadata": {},
   "outputs": [],
   "source": []
  },
  {
   "cell_type": "code",
   "execution_count": 28,
   "id": "9f7a2d58",
   "metadata": {},
   "outputs": [
    {
     "data": {
      "text/plain": [
       "[4515.333333333333, 6618.125, 26371.0]"
      ]
     },
     "execution_count": 28,
     "metadata": {},
     "output_type": "execute_result"
    }
   ],
   "source": [
    "# 가양2, 가양3, 방화3, 화곡8, 화곡본, 등촌2, 화곡2, 화곡3, 화곡4\n",
    "# 방화1, 방화2, 염창, 우장산, 등촌1, 등촌3, 화곡6, 화곡1\n",
    "# 공항, 발산1, 가양1\n",
    "\n",
    "ratio = []\n",
    "cluster_0 = df_dong.iloc[[1, 2, 6, 9, 10, 12, 14, 15, 16], :]\n",
    "cluster_1 = df_dong.iloc[[4, 5, 7, 8, 11, 13, 17, 19], :]\n",
    "cluster_2 = df_dong.iloc[[0, 3, 18], :]\n",
    "\n",
    "ratio.append(cluster_0['단속건수'].mean())\n",
    "ratio.append(cluster_1['단속건수'].mean())\n",
    "ratio.append(cluster_2['단속건수'].mean())\n",
    "ratio"
   ]
  },
  {
   "cell_type": "code",
   "execution_count": 29,
   "id": "32ffcd0c",
   "metadata": {},
   "outputs": [
    {
     "data": {
      "text/html": [
       "<div>\n",
       "<style scoped>\n",
       "    .dataframe tbody tr th:only-of-type {\n",
       "        vertical-align: middle;\n",
       "    }\n",
       "\n",
       "    .dataframe tbody tr th {\n",
       "        vertical-align: top;\n",
       "    }\n",
       "\n",
       "    .dataframe thead th {\n",
       "        text-align: right;\n",
       "    }\n",
       "</style>\n",
       "<table border=\"1\" class=\"dataframe\">\n",
       "  <thead>\n",
       "    <tr style=\"text-align: right;\">\n",
       "      <th></th>\n",
       "      <th>cluster</th>\n",
       "      <th>단속건수 평균</th>\n",
       "    </tr>\n",
       "  </thead>\n",
       "  <tbody>\n",
       "    <tr>\n",
       "      <th>0</th>\n",
       "      <td>cluster0</td>\n",
       "      <td>4515.333333</td>\n",
       "    </tr>\n",
       "    <tr>\n",
       "      <th>1</th>\n",
       "      <td>cluster1</td>\n",
       "      <td>6618.125000</td>\n",
       "    </tr>\n",
       "    <tr>\n",
       "      <th>2</th>\n",
       "      <td>cluster2</td>\n",
       "      <td>26371.000000</td>\n",
       "    </tr>\n",
       "  </tbody>\n",
       "</table>\n",
       "</div>"
      ],
      "text/plain": [
       "    cluster       단속건수 평균\n",
       "0  cluster0   4515.333333\n",
       "1  cluster1   6618.125000\n",
       "2  cluster2  26371.000000"
      ]
     },
     "execution_count": 29,
     "metadata": {},
     "output_type": "execute_result"
    }
   ],
   "source": [
    "df3 = pd.DataFrame()\n",
    "df3['cluster'] = ['cluster0', 'cluster1', 'cluster2']\n",
    "df3['단속건수 평균'] = ratio\n",
    "df3"
   ]
  },
  {
   "cell_type": "code",
   "execution_count": 31,
   "id": "73f3700c",
   "metadata": {},
   "outputs": [],
   "source": [
    "import json\n",
    "\n",
    "jpath = '클러스터별_통합.json'\n",
    "gangseo_geo = json.load(open(jpath, encoding='utf-8'))\n",
    "\n",
    "g_map = folium.Map(location = [37.564284172921866, 126.82663196076031],  \n",
    "                   tiles='CartoDB positron',\n",
    "                   zoom_start = 13)\n",
    "fmap = folium.Choropleth(geo_data = gangseo_geo,\n",
    "                        data=df3,\n",
    "                        columns=['cluster', '단속건수 평균'],\n",
    "                        key_on = 'feature.properties.temp', \n",
    "                        fill_color='Blues',\n",
    "                        fill_opacity=0.7,\n",
    "                        line_opacity=0.3, \n",
    "                        legend_name='단속건수 평균', \n",
    "                        highlight=True).add_to(g_map)\n",
    "folium.LayerControl().add_to(g_map)\n",
    "\n",
    "fmap.geojson.zoom_on_click = False\n",
    "fmap.geojson.add_child( folium.features.GeoJsonTooltip(['temp'], lables=False))\n",
    "g_map.save('클러스터별_단속건수 평균.html')"
   ]
  },
  {
   "cell_type": "code",
   "execution_count": null,
   "id": "69b689bb",
   "metadata": {},
   "outputs": [],
   "source": []
  },
  {
   "cell_type": "code",
   "execution_count": 123,
   "id": "cf7073d4",
   "metadata": {},
   "outputs": [],
   "source": []
  },
  {
   "cell_type": "code",
   "execution_count": 164,
   "id": "dd626d69",
   "metadata": {},
   "outputs": [],
   "source": [
    "import json\n",
    "\n",
    "g_map = folium.Map(location = [37.564284172921866, 126.82663196076031],  \n",
    "                   tiles='CartoDB positron',\n",
    "                   zoom_start = 13)\n",
    "\n",
    "jpath = '클러스터_0.json'\n",
    "gangseo_geo = json.load(open(jpath, encoding='utf-8'))\n",
    "fmap2 = folium.Choropleth(geo_data = gangseo_geo,\n",
    "                        data=df_dong,\n",
    "                        columns=['행정동', '단속건수'],\n",
    "                        key_on = 'feature.properties.temp', \n",
    "                        fill_color='OrRd',\n",
    "                        fill_opacity=0.7,\n",
    "                        line_opacity=0.3, \n",
    "                        legend_name='단속건수', \n",
    "                        highlight=True).add_to(g_map)\n",
    "\n",
    "jpath = '클러스터_1.json'\n",
    "gangseo_geo = json.load(open(jpath, encoding='utf-8'))\n",
    "\n",
    "fmap1 = folium.Choropleth(geo_data = gangseo_geo,\n",
    "                        data=df_dong,\n",
    "                        columns=['행정동', '단속건수'],\n",
    "                        key_on = 'feature.properties.temp', \n",
    "                        fill_color='YlGn',\n",
    "                        fill_opacity=0.7,\n",
    "                        line_opacity=0.3, \n",
    "                        legend_name='단속건수').add_to(g_map)\n",
    "\n",
    "jpath = '클러스터_2.json'\n",
    "gangseo_geo = json.load(open(jpath, encoding='utf-8'))\n",
    "fmap2 = folium.Choropleth(geo_data = gangseo_geo,\n",
    "                        data=df_dong,\n",
    "                        columns=['행정동', '단속건수'],\n",
    "                        key_on = 'feature.properties.temp', \n",
    "                        fill_color='RdPu',\n",
    "                        fill_opacity=0.7,\n",
    "                        line_opacity=0.3, \n",
    "                        legend_name='단속건수', \n",
    "                        highlight=True).add_to(g_map)\n",
    "\n",
    "jpath = '클러스터_3.json'\n",
    "gangseo_geo = json.load(open(jpath, encoding='utf-8'))\n",
    "fmap2 = folium.Choropleth(geo_data = gangseo_geo,\n",
    "                        data=df_dong,\n",
    "                        columns=['행정동', '단속건수'],\n",
    "                        key_on = 'feature.properties.temp', \n",
    "                        fill_color='Blues',\n",
    "                        fill_opacity=0.7,\n",
    "                        line_opacity=0.3, \n",
    "                        legend_name='단속건수', \n",
    "                        highlight=True).add_to(g_map)\n",
    "\n",
    "folium.LayerControl(autoZIndex=False).add_to(g_map)\n",
    "\n",
    "fmap.geojson.zoom_on_click = False\n",
    "fmap1.geojson.add_child( folium.features.GeoJsonTooltip(['temp'], lables=True))\n",
    "fmap2.geojson.add_child( folium.features.GeoJsonTooltip(['temp'], lables=True))\n",
    "g_map.save('test.html')"
   ]
  },
  {
   "cell_type": "code",
   "execution_count": null,
   "id": "2e51f7d0",
   "metadata": {},
   "outputs": [],
   "source": []
  },
  {
   "cell_type": "code",
   "execution_count": null,
   "id": "d8fd6d9a",
   "metadata": {},
   "outputs": [],
   "source": []
  }
 ],
 "metadata": {
  "kernelspec": {
   "display_name": "ai_env",
   "language": "python",
   "name": "ai_env"
  },
  "language_info": {
   "codemirror_mode": {
    "name": "ipython",
    "version": 3
   },
   "file_extension": ".py",
   "mimetype": "text/x-python",
   "name": "python",
   "nbconvert_exporter": "python",
   "pygments_lexer": "ipython3",
   "version": "3.10.8"
  }
 },
 "nbformat": 4,
 "nbformat_minor": 5
}
